{
 "cells": [
  {
   "cell_type": "markdown",
   "metadata": {},
   "source": [
    "# More complicated data\n",
    "\n",
    "Now things are going to get real.  We're going to look at a dataset of reports from accidents in New Jersey between 2008 and 2013. There are over 1.7 million rows, and the data file is kind of messy.\n",
    "\n",
    "Thanks to Tom Meagher of the Marshall Project for his work to get the data from the New Jersey Department of Transportation.\n",
    "\n",
    "If you're not using a computer set up for this workshop. you may need to download the data from this URL: https://s3.amazonaws.com/nicar15/njaccidents.csv Be sure to copy the downloaded file into the same directory where as this notebook.\n"
   ]
  },
  {
   "cell_type": "code",
   "execution_count": null,
   "metadata": {
    "collapsed": false
   },
   "outputs": [],
   "source": [
    "# running this cell takes a while, don't sweat it...\n",
    "import pandas as pd\n",
    "njaccidents = pd.read_csv('njaccidents.csv')"
   ]
  },
  {
   "cell_type": "markdown",
   "metadata": {},
   "source": [
    "You probably saw a warning \n",
    "\n",
    "    Columns (6) have mixed types. Specify dtype option on import or set low_memory=False.\n",
    "    \n",
    "Let's see what's up with that. \n",
    "\n",
    "Normally we use column names to check data from a `DataFrame` but since we haven't even looked at them yet, here's a trick to see what's up with column 6 without knowing its name."
   ]
  },
  {
   "cell_type": "code",
   "execution_count": null,
   "metadata": {
    "collapsed": false
   },
   "outputs": [],
   "source": [
    "njaccidents[njaccidents.columns[6]].describe()"
   ]
  },
  {
   "cell_type": "markdown",
   "metadata": {},
   "source": [
    "So from the above, we see that this data is for the *Police Dept Code*. `pandas` is treating it as a number (`int64`), and there are only 11 unique values for this column. Eleven isn't too many to eyeball, so let's see what they are:"
   ]
  },
  {
   "cell_type": "code",
   "execution_count": null,
   "metadata": {
    "collapsed": false
   },
   "outputs": [],
   "source": [
    "njaccidents[njaccidents.columns[6]].unique()"
   ]
  },
  {
   "cell_type": "markdown",
   "metadata": {},
   "source": [
    "Yeah, we can see a mix of strings and numbers in there. Since we've got some experience working with data, and since the column name has *code* in it, that makes us nervous. Codes should just about always be treated as strings, not numbers. Let's reload the datafile so that that doesn't trip us up later. Notice that while in the last lesson we used the column name  to set the `dtype` (data type), we can also use a column number. Since `pandas` is mostly concerned with math, all non-numeric data is considered type `object`, so we use that."
   ]
  },
  {
   "cell_type": "code",
   "execution_count": null,
   "metadata": {
    "collapsed": false
   },
   "outputs": [],
   "source": [
    "njaccidents = pd.read_csv('njaccidents.csv', dtype={6: 'object'}) # re-reading 1.7M rows is slow, don't worry\n",
    "njaccidents[njaccidents.columns[6]].unique()"
   ]
  },
  {
   "cell_type": "markdown",
   "metadata": {},
   "source": [
    "That looks a lot better. So let's take a look at what we actually have here:"
   ]
  },
  {
   "cell_type": "code",
   "execution_count": null,
   "metadata": {
    "collapsed": false
   },
   "outputs": [],
   "source": [
    "njaccidents.head()"
   ]
  },
  {
   "cell_type": "markdown",
   "metadata": {},
   "source": [
    "Let's start with a typical question you might have. Which counties have the most rows in this dataset? This is a good use of the `value_counts()` function."
   ]
  },
  {
   "cell_type": "code",
   "execution_count": null,
   "metadata": {
    "collapsed": false
   },
   "outputs": [],
   "source": [
    "njaccidents['County Name'].value_counts()"
   ]
  },
  {
   "cell_type": "markdown",
   "metadata": {},
   "source": [
    "OK, that was a little trick. You should have gotten a lot of error trace, with the important part at the end: \n",
    "\n",
    "    KeyError: 'County Name'\n",
    "\n",
    "That means there's no column with that name. That's weird, that looked like the name of the column. What's going on?"
   ]
  },
  {
   "cell_type": "code",
   "execution_count": null,
   "metadata": {
    "collapsed": false
   },
   "outputs": [],
   "source": [
    "njaccidents.columns"
   ]
  },
  {
   "cell_type": "markdown",
   "metadata": {},
   "source": [
    "Yuk. Almost every column has a leading space in the name. \n",
    "\n",
    "As we saw in the previous section, you can rename columns in a `DataFrame`. Last time we used a `dict` to map current column names to new ones.\n",
    "\n",
    "But in this case, there are so many problem columns, we should take advantage of an alternate usage: we can pass a function which, given the current column name, returns a replacement name. In our case, we'll strip the white space."
   ]
  },
  {
   "cell_type": "code",
   "execution_count": null,
   "metadata": {
    "collapsed": false
   },
   "outputs": [],
   "source": [
    "njaccidents.rename(columns=lambda x: x.strip(), inplace=True)\n",
    "njaccidents.columns"
   ]
  },
  {
   "cell_type": "markdown",
   "metadata": {},
   "source": [
    "OK. Now we let's try again: how many rows are there for each county?"
   ]
  },
  {
   "cell_type": "code",
   "execution_count": null,
   "metadata": {
    "collapsed": false
   },
   "outputs": [],
   "source": [
    "njaccidents['County Name'].value_counts()"
   ]
  },
  {
   "cell_type": "code",
   "execution_count": null,
   "metadata": {
    "collapsed": false
   },
   "outputs": [],
   "source": [
    "njaccidents[njaccidents['County Name']=='HUDSON']"
   ]
  },
  {
   "cell_type": "code",
   "execution_count": null,
   "metadata": {
    "collapsed": false
   },
   "outputs": [],
   "source": [
    "njaccidents['County Name']=njaccidents['County Name'].map(str.strip)"
   ]
  },
  {
   "cell_type": "code",
   "execution_count": null,
   "metadata": {
    "collapsed": false
   },
   "outputs": [],
   "source": [
    "njaccidents.dtypes"
   ]
  },
  {
   "cell_type": "markdown",
   "metadata": {},
   "source": [
    "Objects are strings or date. Int64 are integers"
   ]
  },
  {
   "cell_type": "code",
   "execution_count": null,
   "metadata": {
    "collapsed": false
   },
   "outputs": [],
   "source": [
    "njaccidents['Police Dept Code'].unique()"
   ]
  },
  {
   "cell_type": "code",
   "execution_count": null,
   "metadata": {
    "collapsed": false
   },
   "outputs": [],
   "source": [
    "njaccidents['Crash Type Code'].unique()"
   ]
  },
  {
   "cell_type": "code",
   "execution_count": null,
   "metadata": {
    "collapsed": false
   },
   "outputs": [],
   "source": [
    "njaccidents['Police Dept Code']=njaccidents['Police Dept Code'].astype(str)"
   ]
  },
  {
   "cell_type": "code",
   "execution_count": null,
   "metadata": {
    "collapsed": false
   },
   "outputs": [],
   "source": [
    "njaccidents['Police Dept Code'].unique()"
   ]
  },
  {
   "cell_type": "code",
   "execution_count": null,
   "metadata": {
    "collapsed": true
   },
   "outputs": [],
   "source": [
    "njcrashinfo = njaccidents[['County Name', 'Municipality Name', 'Crash Date', 'Crash Day Of Week', 'Crash Time', \n",
    "                           'Total Killed', 'Total Injured', 'Pedestrians Killed', 'Pedestrians Injured', \n",
    "                           'Total Vehicles Involved', 'Alcohol Involved', 'Cell Phone In Use Flag']]"
   ]
  },
  {
   "cell_type": "code",
   "execution_count": null,
   "metadata": {
    "collapsed": false
   },
   "outputs": [],
   "source": [
    "njcrashinfo"
   ]
  },
  {
   "cell_type": "markdown",
   "metadata": {},
   "source": [
    "How many car accidents had alcohol involved?"
   ]
  },
  {
   "cell_type": "code",
   "execution_count": null,
   "metadata": {
    "collapsed": false
   },
   "outputs": [],
   "source": [
    "njcrashinfo['Alcohol Involved'].unique()"
   ]
  },
  {
   "cell_type": "code",
   "execution_count": null,
   "metadata": {
    "collapsed": false
   },
   "outputs": [],
   "source": [
    "alcohol = pd.DataFrame(njcrashinfo['Alcohol Involved'].value_counts())"
   ]
  },
  {
   "cell_type": "code",
   "execution_count": null,
   "metadata": {
    "collapsed": false
   },
   "outputs": [],
   "source": [
    "alcohol"
   ]
  },
  {
   "cell_type": "code",
   "execution_count": null,
   "metadata": {
    "collapsed": false
   },
   "outputs": [],
   "source": [
    "njcrashcount =njcrashinfo['Alcohol Involved'].count()"
   ]
  },
  {
   "cell_type": "code",
   "execution_count": null,
   "metadata": {
    "collapsed": true
   },
   "outputs": [],
   "source": [
    "alcohol['Percent'] = (alcohol['Alcohol Involved']/njcrashcount)*100"
   ]
  },
  {
   "cell_type": "code",
   "execution_count": null,
   "metadata": {
    "collapsed": false
   },
   "outputs": [],
   "source": [
    "alcohol"
   ]
  },
  {
   "cell_type": "code",
   "execution_count": null,
   "metadata": {
    "collapsed": false
   },
   "outputs": [],
   "source": [
    "njcrashinfo['County Name'].value_counts()"
   ]
  },
  {
   "cell_type": "code",
   "execution_count": null,
   "metadata": {
    "collapsed": false
   },
   "outputs": [],
   "source": [
    "njcrashinfo.groupby('County Name').sum()"
   ]
  },
  {
   "cell_type": "code",
   "execution_count": null,
   "metadata": {
    "collapsed": false
   },
   "outputs": [],
   "source": [
    "countydeaths = njcrashinfo.groupby('County Name').sum().iloc[:,0].sort_values(ascending=False)"
   ]
  },
  {
   "cell_type": "code",
   "execution_count": null,
   "metadata": {
    "collapsed": false
   },
   "outputs": [],
   "source": [
    "pd.DataFrame(countydeaths)"
   ]
  },
  {
   "cell_type": "code",
   "execution_count": null,
   "metadata": {
    "collapsed": false
   },
   "outputs": [],
   "source": [
    "from datetime import datetime\n",
    "njcrashinfo['Crash Date']=njcrashinfo['Crash Date'].apply(lambda x: datetime.strptime(x, \"%m/%d/%Y\").date())"
   ]
  },
  {
   "cell_type": "code",
   "execution_count": null,
   "metadata": {
    "collapsed": false
   },
   "outputs": [],
   "source": [
    "njcrashinfo"
   ]
  },
  {
   "cell_type": "code",
   "execution_count": null,
   "metadata": {
    "collapsed": true
   },
   "outputs": [],
   "source": [
    "crashesbydate = njcrashinfo.groupby('Crash Date').count().iloc[:,0]"
   ]
  },
  {
   "cell_type": "code",
   "execution_count": null,
   "metadata": {
    "collapsed": false
   },
   "outputs": [],
   "source": [
    "crashesbydate.sort_values(ascending=False)"
   ]
  },
  {
   "cell_type": "code",
   "execution_count": null,
   "metadata": {
    "collapsed": true
   },
   "outputs": [],
   "source": []
  }
 ],
 "metadata": {
  "kernelspec": {
   "display_name": "Python 2",
   "language": "python",
   "name": "python2"
  },
  "language_info": {
   "codemirror_mode": {
    "name": "ipython",
    "version": 2
   },
   "file_extension": ".py",
   "mimetype": "text/x-python",
   "name": "python",
   "nbconvert_exporter": "python",
   "pygments_lexer": "ipython2",
   "version": "2.7.9"
  }
 },
 "nbformat": 4,
 "nbformat_minor": 0
}
