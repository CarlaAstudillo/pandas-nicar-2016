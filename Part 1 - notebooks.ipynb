{
 "cells": [
  {
   "cell_type": "markdown",
   "metadata": {},
   "source": [
    "# A brief introduction to Jupyter Notebook\n",
    "\n",
    "We're going to use jupyter notebooks for this lesson. Jupyter is a rich tool, but we're going to focus on just enough to keep you moving forward learning about `pandas`. If you want to go deeper, \n",
    "\n",
    "Each jupyter notebook is a series of cells. Each cell is either a _markdown_ cell (like this one, which can be converted to HTML) or a _code_ cell, like the next one, in which you can execute code.\n",
    "\n",
    "Let's see what that means. Put your cursor in the next cell and type the following command, and then type shift-return to execute the code.\n",
    "\n",
    "    print \"hello world\""
   ]
  },
  {
   "cell_type": "code",
   "execution_count": null,
   "metadata": {
    "collapsed": false
   },
   "outputs": [],
   "source": []
  },
  {
   "cell_type": "markdown",
   "metadata": {},
   "source": [
    "<hr>\n",
    "Pretty simple, right? You can run any python code you want in one of these cells, as long as the libraries are installed. Try this:\n",
    "\n",
    "```\n",
    "from random import choice\n",
    "choices = ['chocolate', 'vanilla', 'spumoni', 'rocky road']\n",
    "for i in range(0,4):\n",
    "    print \"Choice {}: {}\".format(i,choice(choices))\n",
    "```\n",
    "\n",
    "Remember, after you type the code, you can run the cell with shift-enter."
   ]
  },
  {
   "cell_type": "code",
   "execution_count": 1,
   "metadata": {
    "collapsed": false
   },
   "outputs": [
    {
     "name": "stdout",
     "output_type": "stream",
     "text": [
      "Choice 0: vanilla\n",
      "Choice 1: spumoni\n",
      "Choice 2: rocky road\n",
      "Choice 3: spumoni\n"
     ]
    }
   ],
   "source": [
    "from random import choice\n",
    "choices = ['chocolate', 'vanilla', 'spumoni', 'rocky road']\n",
    "for i in range(0,4):\n",
    "    print \"Choice {}: {}\".format(i,choice(choices))\n"
   ]
  },
  {
   "cell_type": "markdown",
   "metadata": {},
   "source": [
    "<hr>\n",
    "It's important to keep in mind that what happens in any given cell affects your entire notebook. So in the next cell, enter this code and then _shift-enter_\n",
    "\n",
    "    print i\n",
    "    print choices[1]"
   ]
  },
  {
   "cell_type": "code",
   "execution_count": null,
   "metadata": {
    "collapsed": false
   },
   "outputs": [],
   "source": []
  },
  {
   "cell_type": "markdown",
   "metadata": {},
   "source": [
    "<hr>\n",
    "Unless you have changed other things, you should have seen\n",
    "\n",
    "    3\n",
    "    vanilla\n",
    "\n",
    "even though those weren't present in that code cell\n",
    "\n",
    "One way this can be confusing is if you run the same command twice, and the first time changes things so that the second time you execute the command you get an error. You can go back and re-run cells to restore things (see commands under the **Cell** menu) or, if things really get wacky, use one of the _restart_ options under the **Kernel** menu."
   ]
  },
  {
   "cell_type": "raw",
   "metadata": {},
   "source": [
    "<hr>\n",
    "Another cool thing about the jupyter environment is that you can interact with the local filesystem in a pretty natural way, so you can use commands like `ls` and `cd` and `mkdir`\n",
    "\n",
    "If one of these commands is the only thing you run in a given code cell, you can just type it naturally. If you have multiple commands, or if you're mixing \"shell\" commands and python code, you must prefix the commands with `%`. "
   ]
  },
  {
   "cell_type": "code",
   "execution_count": 8,
   "metadata": {
    "collapsed": false
   },
   "outputs": [
    {
     "name": "stdout",
     "output_type": "stream",
     "text": [
      "/Users/germuska/Development/pandas-nicar-2016\n",
      "PEP_2014_PEPANNRES_with_ann.csv  Part 4.ipynb                     \u001b[34m_images\u001b[m\u001b[m/                         jupyter.md\r\n",
      "Part 2.ipynb                     README.md                        bigtowns.csv                     njaccidents.csv\r\n",
      "Part 3.ipynb                     Untitled.ipynb                   bigtowns.xls                     requirements.txt\r\n"
     ]
    }
   ],
   "source": [
    "%cd ..\n",
    "%ls"
   ]
  },
  {
   "cell_type": "markdown",
   "metadata": {},
   "source": [
    "# A few tricks\n",
    "\n",
    "Since we're going to ask you to type a lot of code for yourself, you should take advantage of jupyter's tricks for productivity.\n",
    "\n",
    "* First, use tab-completion. If you type part of a python package, function or variable name and then press _tab_, jupyter will complete your thought. If there is more than one possible completion, it will give you a menu. It can even complete package names in import statements. It can't totally read your mind, so in some cases you will need to run some code before it's ready to do all the completions, but you'll get the gist of it.\n",
    "* Use _shift-tab_ for help. If you type it at the end of a function, or after the opening parentheses, it will show you the documentation for the function.\n"
   ]
  },
  {
   "cell_type": "markdown",
   "metadata": {},
   "source": [
    "# on with the show\n",
    "\n",
    "If you're done playing around with notebooks in general, [let's take a look at `pandas`](Part%202.ipynb)"
   ]
  },
  {
   "cell_type": "code",
   "execution_count": null,
   "metadata": {
    "collapsed": true
   },
   "outputs": [],
   "source": []
  }
 ],
 "metadata": {
  "kernelspec": {
   "display_name": "Python 2",
   "language": "python",
   "name": "python2"
  },
  "language_info": {
   "codemirror_mode": {
    "name": "ipython",
    "version": 2
   },
   "file_extension": ".py",
   "mimetype": "text/x-python",
   "name": "python",
   "nbconvert_exporter": "python",
   "pygments_lexer": "ipython2",
   "version": "2.7.9"
  }
 },
 "nbformat": 4,
 "nbformat_minor": 0
}
