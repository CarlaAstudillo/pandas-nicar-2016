{
 "cells": [
  {
   "cell_type": "markdown",
   "metadata": {
    "collapsed": true
   },
   "source": [
    "# Part 2 - Open your data & start exploring\n",
    "\n",
    "If you're in the class, the data you need is already available. If not, you need to download:\n",
    "* PEP_2014_PEPANNRES_with_ann.csv - US Census Population Estimates for populated places in Colorado - [from American Factfinder](http://factfinder.census.gov/bkmk/table/1.0/en/PEP/2014/PEPANNRES/0400000US08.16200)\n",
    "* [njaccidents.csv](https://s3.amazonaws.com/nicar15/njaccidents.csv)\n",
    "\n"
   ]
  },
  {
   "cell_type": "markdown",
   "metadata": {},
   "source": [
    "## Loading a data file\n",
    "\n",
    "\n",
    "Before anything else, we import `pandas`. By convention, it's imported as `pd` to save typing. Reading in a CSV is just as easy as you'd guess. We'll load the Colorado population estimates. "
   ]
  },
  {
   "cell_type": "code",
   "execution_count": 2,
   "metadata": {
    "collapsed": false
   },
   "outputs": [],
   "source": [
    "import pandas as pd\n",
    "popest = pd.read_csv('PEP_2014_PEPANNRES_with_ann.csv') "
   ]
  },
  {
   "cell_type": "markdown",
   "metadata": {},
   "source": [
    "`popest` is a `DataFrame`. Mostly, you can think of a `DataFrame` as a single worksheet from a spreadsheet, or even more as a database table. \n",
    "\n",
    "Each column of your `DataFrame` has a name and specific datatype. Technically, the columns are `Series` objects. A lot of the time you don't have to worry about the terminology, but it can pay off to know the right words when googling or asking for help.\n",
    "\n",
    "You'll see that one reason people like `pandas` and `jupyter` is that you can just kinda 'look' at your data "
   ]
  },
  {
   "cell_type": "code",
   "execution_count": 3,
   "metadata": {
    "collapsed": false
   },
   "outputs": [
    {
     "data": {
      "text/html": [
       "<div>\n",
       "<table border=\"1\" class=\"dataframe\">\n",
       "  <thead>\n",
       "    <tr style=\"text-align: right;\">\n",
       "      <th></th>\n",
       "      <th>GEO.id</th>\n",
       "      <th>GEO.id2</th>\n",
       "      <th>GEO.display-label</th>\n",
       "      <th>rescen42010</th>\n",
       "      <th>resbase42010</th>\n",
       "      <th>respop72010</th>\n",
       "      <th>respop72011</th>\n",
       "      <th>respop72012</th>\n",
       "      <th>respop72013</th>\n",
       "      <th>respop72014</th>\n",
       "    </tr>\n",
       "  </thead>\n",
       "  <tbody>\n",
       "    <tr>\n",
       "      <th>0</th>\n",
       "      <td>Id</td>\n",
       "      <td>Id2</td>\n",
       "      <td>Geography</td>\n",
       "      <td>April 1, 2010 - Census</td>\n",
       "      <td>April 1, 2010 - Estimates Base</td>\n",
       "      <td>Population Estimate (as of July 1) - 2010</td>\n",
       "      <td>Population Estimate (as of July 1) - 2011</td>\n",
       "      <td>Population Estimate (as of July 1) - 2012</td>\n",
       "      <td>Population Estimate (as of July 1) - 2013</td>\n",
       "      <td>Population Estimate (as of July 1) - 2014</td>\n",
       "    </tr>\n",
       "    <tr>\n",
       "      <th>1</th>\n",
       "      <td>1620000US0800760</td>\n",
       "      <td>0800760</td>\n",
       "      <td>Aguilar town, Colorado</td>\n",
       "      <td>538</td>\n",
       "      <td>538</td>\n",
       "      <td>535</td>\n",
       "      <td>520</td>\n",
       "      <td>519</td>\n",
       "      <td>496</td>\n",
       "      <td>479</td>\n",
       "    </tr>\n",
       "    <tr>\n",
       "      <th>2</th>\n",
       "      <td>1620000US0800925</td>\n",
       "      <td>0800925</td>\n",
       "      <td>Akron town, Colorado</td>\n",
       "      <td>1702</td>\n",
       "      <td>1702</td>\n",
       "      <td>1699</td>\n",
       "      <td>1700</td>\n",
       "      <td>1678</td>\n",
       "      <td>1693</td>\n",
       "      <td>1694</td>\n",
       "    </tr>\n",
       "    <tr>\n",
       "      <th>3</th>\n",
       "      <td>1620000US0801090</td>\n",
       "      <td>0801090</td>\n",
       "      <td>Alamosa city, Colorado</td>\n",
       "      <td>8780</td>\n",
       "      <td>8828</td>\n",
       "      <td>9268</td>\n",
       "      <td>9393</td>\n",
       "      <td>9423</td>\n",
       "      <td>9550</td>\n",
       "      <td>9531</td>\n",
       "    </tr>\n",
       "    <tr>\n",
       "      <th>4</th>\n",
       "      <td>1620000US0801530</td>\n",
       "      <td>0801530</td>\n",
       "      <td>Alma town, Colorado</td>\n",
       "      <td>270</td>\n",
       "      <td>270</td>\n",
       "      <td>271</td>\n",
       "      <td>269</td>\n",
       "      <td>269</td>\n",
       "      <td>271</td>\n",
       "      <td>275</td>\n",
       "    </tr>\n",
       "  </tbody>\n",
       "</table>\n",
       "</div>"
      ],
      "text/plain": [
       "             GEO.id  GEO.id2       GEO.display-label             rescen42010  \\\n",
       "0                Id      Id2               Geography  April 1, 2010 - Census   \n",
       "1  1620000US0800760  0800760  Aguilar town, Colorado                     538   \n",
       "2  1620000US0800925  0800925    Akron town, Colorado                    1702   \n",
       "3  1620000US0801090  0801090  Alamosa city, Colorado                    8780   \n",
       "4  1620000US0801530  0801530     Alma town, Colorado                     270   \n",
       "\n",
       "                     resbase42010                                respop72010  \\\n",
       "0  April 1, 2010 - Estimates Base  Population Estimate (as of July 1) - 2010   \n",
       "1                             538                                        535   \n",
       "2                            1702                                       1699   \n",
       "3                            8828                                       9268   \n",
       "4                             270                                        271   \n",
       "\n",
       "                                 respop72011  \\\n",
       "0  Population Estimate (as of July 1) - 2011   \n",
       "1                                        520   \n",
       "2                                       1700   \n",
       "3                                       9393   \n",
       "4                                        269   \n",
       "\n",
       "                                 respop72012  \\\n",
       "0  Population Estimate (as of July 1) - 2012   \n",
       "1                                        519   \n",
       "2                                       1678   \n",
       "3                                       9423   \n",
       "4                                        269   \n",
       "\n",
       "                                 respop72013  \\\n",
       "0  Population Estimate (as of July 1) - 2013   \n",
       "1                                        496   \n",
       "2                                       1693   \n",
       "3                                       9550   \n",
       "4                                        271   \n",
       "\n",
       "                                 respop72014  \n",
       "0  Population Estimate (as of July 1) - 2014  \n",
       "1                                        479  \n",
       "2                                       1694  \n",
       "3                                       9531  \n",
       "4                                        275  "
      ]
     },
     "execution_count": 3,
     "metadata": {},
     "output_type": "execute_result"
    }
   ],
   "source": [
    "popest.head() # head() Defaults to giving you the first five rows of the data frame"
   ]
  },
  {
   "cell_type": "markdown",
   "metadata": {},
   "source": [
    "### Loading, refined\n",
    "\n",
    "Notice row `0` -- it's not a data row, it's a second header. This kind of thing is common in Excel, but it can tangle you up when you use python code for data analysis. Let's fix that."
   ]
  },
  {
   "cell_type": "code",
   "execution_count": 4,
   "metadata": {
    "collapsed": false
   },
   "outputs": [
    {
     "data": {
      "text/html": [
       "<div>\n",
       "<table border=\"1\" class=\"dataframe\">\n",
       "  <thead>\n",
       "    <tr style=\"text-align: right;\">\n",
       "      <th></th>\n",
       "      <th>GEO.id</th>\n",
       "      <th>GEO.id2</th>\n",
       "      <th>GEO.display-label</th>\n",
       "      <th>rescen42010</th>\n",
       "      <th>resbase42010</th>\n",
       "      <th>respop72010</th>\n",
       "      <th>respop72011</th>\n",
       "      <th>respop72012</th>\n",
       "      <th>respop72013</th>\n",
       "      <th>respop72014</th>\n",
       "    </tr>\n",
       "  </thead>\n",
       "  <tbody>\n",
       "    <tr>\n",
       "      <th>0</th>\n",
       "      <td>1620000US0800760</td>\n",
       "      <td>800760</td>\n",
       "      <td>Aguilar town, Colorado</td>\n",
       "      <td>538</td>\n",
       "      <td>538</td>\n",
       "      <td>535</td>\n",
       "      <td>520</td>\n",
       "      <td>519</td>\n",
       "      <td>496</td>\n",
       "      <td>479</td>\n",
       "    </tr>\n",
       "    <tr>\n",
       "      <th>1</th>\n",
       "      <td>1620000US0800925</td>\n",
       "      <td>800925</td>\n",
       "      <td>Akron town, Colorado</td>\n",
       "      <td>1702</td>\n",
       "      <td>1702</td>\n",
       "      <td>1699</td>\n",
       "      <td>1700</td>\n",
       "      <td>1678</td>\n",
       "      <td>1693</td>\n",
       "      <td>1694</td>\n",
       "    </tr>\n",
       "    <tr>\n",
       "      <th>2</th>\n",
       "      <td>1620000US0801090</td>\n",
       "      <td>801090</td>\n",
       "      <td>Alamosa city, Colorado</td>\n",
       "      <td>8780</td>\n",
       "      <td>8828</td>\n",
       "      <td>9268</td>\n",
       "      <td>9393</td>\n",
       "      <td>9423</td>\n",
       "      <td>9550</td>\n",
       "      <td>9531</td>\n",
       "    </tr>\n",
       "    <tr>\n",
       "      <th>3</th>\n",
       "      <td>1620000US0801530</td>\n",
       "      <td>801530</td>\n",
       "      <td>Alma town, Colorado</td>\n",
       "      <td>270</td>\n",
       "      <td>270</td>\n",
       "      <td>271</td>\n",
       "      <td>269</td>\n",
       "      <td>269</td>\n",
       "      <td>271</td>\n",
       "      <td>275</td>\n",
       "    </tr>\n",
       "    <tr>\n",
       "      <th>4</th>\n",
       "      <td>1620000US0802355</td>\n",
       "      <td>802355</td>\n",
       "      <td>Antonito town, Colorado</td>\n",
       "      <td>781</td>\n",
       "      <td>781</td>\n",
       "      <td>782</td>\n",
       "      <td>784</td>\n",
       "      <td>779</td>\n",
       "      <td>776</td>\n",
       "      <td>775</td>\n",
       "    </tr>\n",
       "  </tbody>\n",
       "</table>\n",
       "</div>"
      ],
      "text/plain": [
       "             GEO.id  GEO.id2        GEO.display-label rescen42010  \\\n",
       "0  1620000US0800760   800760   Aguilar town, Colorado         538   \n",
       "1  1620000US0800925   800925     Akron town, Colorado        1702   \n",
       "2  1620000US0801090   801090   Alamosa city, Colorado        8780   \n",
       "3  1620000US0801530   801530      Alma town, Colorado         270   \n",
       "4  1620000US0802355   802355  Antonito town, Colorado         781   \n",
       "\n",
       "   resbase42010  respop72010  respop72011  respop72012  respop72013  \\\n",
       "0           538          535          520          519          496   \n",
       "1          1702         1699         1700         1678         1693   \n",
       "2          8828         9268         9393         9423         9550   \n",
       "3           270          271          269          269          271   \n",
       "4           781          782          784          779          776   \n",
       "\n",
       "   respop72014  \n",
       "0          479  \n",
       "1         1694  \n",
       "2         9531  \n",
       "3          275  \n",
       "4          775  "
      ]
     },
     "execution_count": 4,
     "metadata": {},
     "output_type": "execute_result"
    }
   ],
   "source": [
    "popest = pd.read_csv('PEP_2014_PEPANNRES_with_ann.csv', \n",
    "                      skiprows=2, # we can't use row 0 and skip only row 1 so we skip both\n",
    "                      header=None, # and tell pandas that it shouldn't treat the first non-skipped row as a header\n",
    "                      names=[u'GEO.id', u'GEO.id2', # and since there's no header, we provide the names\n",
    "                             u'GEO.display-label', u'rescen42010',\n",
    "                             u'resbase42010', u'respop72010', u'respop72011', \n",
    "                             u'respop72012', u'respop72013', u'respop72014'])\n",
    "popest.head()"
   ]
  },
  {
   "cell_type": "markdown",
   "metadata": {},
   "source": [
    "Huh. This time when it loaded `GEO.id2`, which a lot of people would call a *FIPS code*, it lost the leading `0`. You've probably fought this battle before with US ZIP codes too. The software needs a clue that those leading zeroes are important to us.\n",
    "\n",
    "The reason we even care about the FIPS code is that it provides a clean unique identifier to link data between datasets. Maybe we have another dataset from the state of Colorado where the place names don't include _, Colorado_ -- the FIPS save us the headache of matching names which are _almost but not quite the same._ In database terms, it's a \"unique identifier\" or a \"primary key\". You can tell `pandas` a certain column serves this purpose, by making it the *index*. `DataFrames` and `Series` can be easily joined if they have compatible indexes, even if the rows are in different order, or the datasets have different numbers of rows.\n",
    "\n",
    "So, two things:\n",
    "* we want to reload the data without losing that leading zero\n",
    "* we want to make it clear to `pandas` that the FIPS code column is the index\n",
    "\n",
    "So, once more, from the top."
   ]
  },
  {
   "cell_type": "code",
   "execution_count": 5,
   "metadata": {
    "collapsed": false
   },
   "outputs": [
    {
     "data": {
      "text/html": [
       "<div>\n",
       "<table border=\"1\" class=\"dataframe\">\n",
       "  <thead>\n",
       "    <tr style=\"text-align: right;\">\n",
       "      <th></th>\n",
       "      <th>GEO.id</th>\n",
       "      <th>GEO.display-label</th>\n",
       "      <th>rescen42010</th>\n",
       "      <th>resbase42010</th>\n",
       "      <th>respop72010</th>\n",
       "      <th>respop72011</th>\n",
       "      <th>respop72012</th>\n",
       "      <th>respop72013</th>\n",
       "      <th>respop72014</th>\n",
       "    </tr>\n",
       "    <tr>\n",
       "      <th>FIPS</th>\n",
       "      <th></th>\n",
       "      <th></th>\n",
       "      <th></th>\n",
       "      <th></th>\n",
       "      <th></th>\n",
       "      <th></th>\n",
       "      <th></th>\n",
       "      <th></th>\n",
       "      <th></th>\n",
       "    </tr>\n",
       "  </thead>\n",
       "  <tbody>\n",
       "    <tr>\n",
       "      <th>0800925</th>\n",
       "      <td>1620000US0800925</td>\n",
       "      <td>Akron town, Colorado</td>\n",
       "      <td>1702</td>\n",
       "      <td>1702</td>\n",
       "      <td>1699</td>\n",
       "      <td>1700</td>\n",
       "      <td>1678</td>\n",
       "      <td>1693</td>\n",
       "      <td>1694</td>\n",
       "    </tr>\n",
       "    <tr>\n",
       "      <th>0801090</th>\n",
       "      <td>1620000US0801090</td>\n",
       "      <td>Alamosa city, Colorado</td>\n",
       "      <td>8780</td>\n",
       "      <td>8828</td>\n",
       "      <td>9268</td>\n",
       "      <td>9393</td>\n",
       "      <td>9423</td>\n",
       "      <td>9550</td>\n",
       "      <td>9531</td>\n",
       "    </tr>\n",
       "    <tr>\n",
       "      <th>0801530</th>\n",
       "      <td>1620000US0801530</td>\n",
       "      <td>Alma town, Colorado</td>\n",
       "      <td>270</td>\n",
       "      <td>270</td>\n",
       "      <td>271</td>\n",
       "      <td>269</td>\n",
       "      <td>269</td>\n",
       "      <td>271</td>\n",
       "      <td>275</td>\n",
       "    </tr>\n",
       "    <tr>\n",
       "      <th>0802355</th>\n",
       "      <td>1620000US0802355</td>\n",
       "      <td>Antonito town, Colorado</td>\n",
       "      <td>781</td>\n",
       "      <td>781</td>\n",
       "      <td>782</td>\n",
       "      <td>784</td>\n",
       "      <td>779</td>\n",
       "      <td>776</td>\n",
       "      <td>775</td>\n",
       "    </tr>\n",
       "    <tr>\n",
       "      <th>0803235</th>\n",
       "      <td>1620000US0803235</td>\n",
       "      <td>Arriba town, Colorado</td>\n",
       "      <td>193</td>\n",
       "      <td>193</td>\n",
       "      <td>193</td>\n",
       "      <td>193</td>\n",
       "      <td>193</td>\n",
       "      <td>191</td>\n",
       "      <td>194</td>\n",
       "    </tr>\n",
       "  </tbody>\n",
       "</table>\n",
       "</div>"
      ],
      "text/plain": [
       "                   GEO.id        GEO.display-label rescen42010  resbase42010  \\\n",
       "FIPS                                                                           \n",
       "0800925  1620000US0800925     Akron town, Colorado        1702          1702   \n",
       "0801090  1620000US0801090   Alamosa city, Colorado        8780          8828   \n",
       "0801530  1620000US0801530      Alma town, Colorado         270           270   \n",
       "0802355  1620000US0802355  Antonito town, Colorado         781           781   \n",
       "0803235  1620000US0803235    Arriba town, Colorado         193           193   \n",
       "\n",
       "         respop72010  respop72011  respop72012  respop72013  respop72014  \n",
       "FIPS                                                                      \n",
       "0800925         1699         1700         1678         1693         1694  \n",
       "0801090         9268         9393         9423         9550         9531  \n",
       "0801530          271          269          269          271          275  \n",
       "0802355          782          784          779          776          775  \n",
       "0803235          193          193          193          191          194  "
      ]
     },
     "execution_count": 5,
     "metadata": {},
     "output_type": "execute_result"
    }
   ],
   "source": [
    "popest = pd.read_csv('PEP_2014_PEPANNRES_with_ann.csv', \n",
    "                      skiprows=2, # we can't use row 0 and skip only row 1 so we skip both\n",
    "                      header=0, # and tell pandas that it shouldn't treat the first non-skipped row as a header\n",
    "                      names=[u'GEO.id', u'FIPS', # and since there's no header, we provide the names\n",
    "                             u'GEO.display-label', u'rescen42010', # just copy/pasted from the output above\n",
    "                             u'resbase42010', u'respop72010', u'respop72011', \n",
    "                             u'respop72012', u'respop72013', u'respop72014'],\n",
    "                      index_col=1,\n",
    "                      dtype={'FIPS': 'S7'} # should be able to use object instead of 'S7', I filed a bug!\n",
    "                    )\n",
    "popest.head()"
   ]
  },
  {
   "cell_type": "markdown",
   "metadata": {},
   "source": [
    "OK, now we can trust that we'll be able to join this with another data set. (Note that `jupyter` displays the `index` in bold.) That `GEO.id` column seems redundant. Also, while maybe important in some cases, we don't really need the Decennial 2010 estimate or the base value used for estimates. Let's simplify things a little."
   ]
  },
  {
   "cell_type": "code",
   "execution_count": 6,
   "metadata": {
    "collapsed": false
   },
   "outputs": [],
   "source": [
    "# don't forget axis=1 if you're dropping columns; default is to try to drop a row.\n",
    "popest = popest.drop(['GEO.id', 'rescen42010', 'resbase42010'], axis=1) "
   ]
  },
  {
   "cell_type": "markdown",
   "metadata": {},
   "source": [
    "And let's fix those column names to something easier to type."
   ]
  },
  {
   "cell_type": "code",
   "execution_count": 7,
   "metadata": {
    "collapsed": false
   },
   "outputs": [
    {
     "data": {
      "text/html": [
       "<div>\n",
       "<table border=\"1\" class=\"dataframe\">\n",
       "  <thead>\n",
       "    <tr style=\"text-align: right;\">\n",
       "      <th></th>\n",
       "      <th>name</th>\n",
       "      <th>est2010</th>\n",
       "      <th>est2011</th>\n",
       "      <th>est2012</th>\n",
       "      <th>est2013</th>\n",
       "      <th>est2014</th>\n",
       "    </tr>\n",
       "    <tr>\n",
       "      <th>FIPS</th>\n",
       "      <th></th>\n",
       "      <th></th>\n",
       "      <th></th>\n",
       "      <th></th>\n",
       "      <th></th>\n",
       "      <th></th>\n",
       "    </tr>\n",
       "  </thead>\n",
       "  <tbody>\n",
       "    <tr>\n",
       "      <th>0800925</th>\n",
       "      <td>Akron town, Colorado</td>\n",
       "      <td>1699</td>\n",
       "      <td>1700</td>\n",
       "      <td>1678</td>\n",
       "      <td>1693</td>\n",
       "      <td>1694</td>\n",
       "    </tr>\n",
       "    <tr>\n",
       "      <th>0801090</th>\n",
       "      <td>Alamosa city, Colorado</td>\n",
       "      <td>9268</td>\n",
       "      <td>9393</td>\n",
       "      <td>9423</td>\n",
       "      <td>9550</td>\n",
       "      <td>9531</td>\n",
       "    </tr>\n",
       "    <tr>\n",
       "      <th>0801530</th>\n",
       "      <td>Alma town, Colorado</td>\n",
       "      <td>271</td>\n",
       "      <td>269</td>\n",
       "      <td>269</td>\n",
       "      <td>271</td>\n",
       "      <td>275</td>\n",
       "    </tr>\n",
       "    <tr>\n",
       "      <th>0802355</th>\n",
       "      <td>Antonito town, Colorado</td>\n",
       "      <td>782</td>\n",
       "      <td>784</td>\n",
       "      <td>779</td>\n",
       "      <td>776</td>\n",
       "      <td>775</td>\n",
       "    </tr>\n",
       "    <tr>\n",
       "      <th>0803235</th>\n",
       "      <td>Arriba town, Colorado</td>\n",
       "      <td>193</td>\n",
       "      <td>193</td>\n",
       "      <td>193</td>\n",
       "      <td>191</td>\n",
       "      <td>194</td>\n",
       "    </tr>\n",
       "  </tbody>\n",
       "</table>\n",
       "</div>"
      ],
      "text/plain": [
       "                            name  est2010  est2011  est2012  est2013  est2014\n",
       "FIPS                                                                         \n",
       "0800925     Akron town, Colorado     1699     1700     1678     1693     1694\n",
       "0801090   Alamosa city, Colorado     9268     9393     9423     9550     9531\n",
       "0801530      Alma town, Colorado      271      269      269      271      275\n",
       "0802355  Antonito town, Colorado      782      784      779      776      775\n",
       "0803235    Arriba town, Colorado      193      193      193      191      194"
      ]
     },
     "execution_count": 7,
     "metadata": {},
     "output_type": "execute_result"
    }
   ],
   "source": [
    "popest = popest.rename(columns={ # yeah, we coulda done this when we read in the CSV but sometimes you realize it later.\n",
    "        'GEO.display-label': 'name',\n",
    "        'respop72010': 'est2010', \n",
    "        'respop72011': 'est2011', \n",
    "        'respop72012': 'est2012', \n",
    "        'respop72013': 'est2013', \n",
    "        'respop72014': 'est2014', \n",
    "    })\n",
    "popest.head()"
   ]
  },
  {
   "cell_type": "markdown",
   "metadata": {},
   "source": [
    "Ah, that‘s a lot tidier. One thing you should note: in both of the last two exampmles, we reassigned `popest` to the result of a function call. This is because these and many other operations in `pandas` don't change the original `DataFrame`. Instead, they return a new \"view\" of the same data. You will inevitably forget this and then wonder why that change you thought you made isn't there. This is why. The good news is that it will become a habit, mostly."
   ]
  },
  {
   "cell_type": "markdown",
   "metadata": {},
   "source": [
    "# Exploring your data\n",
    "\n",
    "OK, now that we have the data loaded, what do we have? \n",
    "\n",
    "Like we said before, each column of a `DataFrame` is a `Series`. You get at the columns by using the `DataFrame` like a python `dict` class, with the column names as keys. "
   ]
  },
  {
   "cell_type": "code",
   "execution_count": 8,
   "metadata": {
    "collapsed": false
   },
   "outputs": [
    {
     "data": {
      "text/plain": [
       "FIPS\n",
       "0800925    1694\n",
       "0801090    9531\n",
       "0801530     275\n",
       "0802355     775\n",
       "0803235     194\n",
       "Name: est2014, dtype: int64"
      ]
     },
     "execution_count": 8,
     "metadata": {},
     "output_type": "execute_result"
    }
   ],
   "source": [
    "popest['est2014'].head()"
   ]
  },
  {
   "cell_type": "markdown",
   "metadata": {},
   "source": [
    "You can get specific values from the `Series` by using the index value as a key."
   ]
  },
  {
   "cell_type": "code",
   "execution_count": 9,
   "metadata": {
    "collapsed": false
   },
   "outputs": [
    {
     "name": "stdout",
     "output_type": "stream",
     "text": [
      "The 2014 estimated population for FIPS 0800925 is 1694\n"
     ]
    }
   ],
   "source": [
    "print \"The 2014 estimated population for FIPS 0800925 is {}\".format(popest['est2014']['0800925'])"
   ]
  },
  {
   "cell_type": "markdown",
   "metadata": {},
   "source": [
    "Like in Javascript, in some cases you an also get the values from the `DataFrame` by treating the column name as an attribute, although that doesn't work if the name has spaces, or is a python reserved word. For this lesson, we'll stick with the dictionary-access style, but just to show you, look at this:"
   ]
  },
  {
   "cell_type": "code",
   "execution_count": 10,
   "metadata": {
    "collapsed": false
   },
   "outputs": [
    {
     "data": {
      "text/plain": [
       "FIPS\n",
       "0800925    1694\n",
       "0801090    9531\n",
       "0801530     275\n",
       "0802355     775\n",
       "0803235     194\n",
       "Name: est2014, dtype: int64"
      ]
     },
     "execution_count": 10,
     "metadata": {},
     "output_type": "execute_result"
    }
   ],
   "source": [
    "popest.est2014.head()"
   ]
  },
  {
   "cell_type": "markdown",
   "metadata": {},
   "source": [
    "See? Same difference.\n",
    "\n",
    "By now you must be itching to actually learn something about the data. It's easy to get basic summary statistics from a `Series`."
   ]
  },
  {
   "cell_type": "code",
   "execution_count": 11,
   "metadata": {
    "collapsed": false
   },
   "outputs": [
    {
     "data": {
      "text/plain": [
       "count       270.000000\n",
       "mean      14652.214815\n",
       "std       57327.321746\n",
       "min           8.000000\n",
       "25%         426.500000\n",
       "50%        1181.500000\n",
       "75%        5967.000000\n",
       "max      663862.000000\n",
       "Name: est2014, dtype: float64"
      ]
     },
     "execution_count": 11,
     "metadata": {},
     "output_type": "execute_result"
    }
   ],
   "source": [
    "popest['est2014'].describe() # describe just a series"
   ]
  },
  {
   "cell_type": "code",
   "execution_count": 12,
   "metadata": {
    "collapsed": false
   },
   "outputs": [
    {
     "data": {
      "text/html": [
       "<div>\n",
       "<table border=\"1\" class=\"dataframe\">\n",
       "  <thead>\n",
       "    <tr style=\"text-align: right;\">\n",
       "      <th></th>\n",
       "      <th>est2010</th>\n",
       "      <th>est2011</th>\n",
       "      <th>est2012</th>\n",
       "      <th>est2013</th>\n",
       "      <th>est2014</th>\n",
       "    </tr>\n",
       "  </thead>\n",
       "  <tbody>\n",
       "    <tr>\n",
       "      <th>count</th>\n",
       "      <td>270.000000</td>\n",
       "      <td>270.000000</td>\n",
       "      <td>270.000000</td>\n",
       "      <td>270.000000</td>\n",
       "      <td>270.000000</td>\n",
       "    </tr>\n",
       "    <tr>\n",
       "      <th>mean</th>\n",
       "      <td>13705.629630</td>\n",
       "      <td>13925.751852</td>\n",
       "      <td>14149.511111</td>\n",
       "      <td>14396.911111</td>\n",
       "      <td>14652.214815</td>\n",
       "    </tr>\n",
       "    <tr>\n",
       "      <th>std</th>\n",
       "      <td>52922.920974</td>\n",
       "      <td>54053.576092</td>\n",
       "      <td>55112.977910</td>\n",
       "      <td>56210.091428</td>\n",
       "      <td>57327.321746</td>\n",
       "    </tr>\n",
       "    <tr>\n",
       "      <th>min</th>\n",
       "      <td>8.000000</td>\n",
       "      <td>8.000000</td>\n",
       "      <td>8.000000</td>\n",
       "      <td>8.000000</td>\n",
       "      <td>8.000000</td>\n",
       "    </tr>\n",
       "    <tr>\n",
       "      <th>25%</th>\n",
       "      <td>425.500000</td>\n",
       "      <td>424.250000</td>\n",
       "      <td>425.250000</td>\n",
       "      <td>426.750000</td>\n",
       "      <td>426.500000</td>\n",
       "    </tr>\n",
       "    <tr>\n",
       "      <th>50%</th>\n",
       "      <td>1189.500000</td>\n",
       "      <td>1184.000000</td>\n",
       "      <td>1167.000000</td>\n",
       "      <td>1175.500000</td>\n",
       "      <td>1181.500000</td>\n",
       "    </tr>\n",
       "    <tr>\n",
       "      <th>75%</th>\n",
       "      <td>5669.750000</td>\n",
       "      <td>5742.750000</td>\n",
       "      <td>5827.250000</td>\n",
       "      <td>5902.500000</td>\n",
       "      <td>5967.000000</td>\n",
       "    </tr>\n",
       "    <tr>\n",
       "      <th>max</th>\n",
       "      <td>603365.000000</td>\n",
       "      <td>619390.000000</td>\n",
       "      <td>633868.000000</td>\n",
       "      <td>648401.000000</td>\n",
       "      <td>663862.000000</td>\n",
       "    </tr>\n",
       "  </tbody>\n",
       "</table>\n",
       "</div>"
      ],
      "text/plain": [
       "             est2010        est2011        est2012        est2013  \\\n",
       "count     270.000000     270.000000     270.000000     270.000000   \n",
       "mean    13705.629630   13925.751852   14149.511111   14396.911111   \n",
       "std     52922.920974   54053.576092   55112.977910   56210.091428   \n",
       "min         8.000000       8.000000       8.000000       8.000000   \n",
       "25%       425.500000     424.250000     425.250000     426.750000   \n",
       "50%      1189.500000    1184.000000    1167.000000    1175.500000   \n",
       "75%      5669.750000    5742.750000    5827.250000    5902.500000   \n",
       "max    603365.000000  619390.000000  633868.000000  648401.000000   \n",
       "\n",
       "             est2014  \n",
       "count     270.000000  \n",
       "mean    14652.214815  \n",
       "std     57327.321746  \n",
       "min         8.000000  \n",
       "25%       426.500000  \n",
       "50%      1181.500000  \n",
       "75%      5967.000000  \n",
       "max    663862.000000  "
      ]
     },
     "execution_count": 12,
     "metadata": {},
     "output_type": "execute_result"
    }
   ],
   "source": [
    "popest.describe() # or describe the whole dataset. only numeric columns are included in the results"
   ]
  },
  {
   "cell_type": "markdown",
   "metadata": {},
   "source": [
    "There are 270 places in our dataset. The average 2014 estimated population is about 14,652, but the median is only 1181.5. "
   ]
  },
  {
   "cell_type": "markdown",
   "metadata": {},
   "source": [
    "The smallest place has only 8 people. Which one is it?"
   ]
  },
  {
   "cell_type": "code",
   "execution_count": 13,
   "metadata": {
    "collapsed": false
   },
   "outputs": [
    {
     "data": {
      "text/html": [
       "<div>\n",
       "<table border=\"1\" class=\"dataframe\">\n",
       "  <thead>\n",
       "    <tr style=\"text-align: right;\">\n",
       "      <th></th>\n",
       "      <th>name</th>\n",
       "      <th>est2010</th>\n",
       "      <th>est2011</th>\n",
       "      <th>est2012</th>\n",
       "      <th>est2013</th>\n",
       "      <th>est2014</th>\n",
       "    </tr>\n",
       "    <tr>\n",
       "      <th>FIPS</th>\n",
       "      <th></th>\n",
       "      <th></th>\n",
       "      <th></th>\n",
       "      <th></th>\n",
       "      <th></th>\n",
       "      <th></th>\n",
       "    </tr>\n",
       "  </thead>\n",
       "  <tbody>\n",
       "    <tr>\n",
       "      <th>0842495</th>\n",
       "      <td>Lakeside town, Colorado</td>\n",
       "      <td>8</td>\n",
       "      <td>8</td>\n",
       "      <td>8</td>\n",
       "      <td>8</td>\n",
       "      <td>8</td>\n",
       "    </tr>\n",
       "  </tbody>\n",
       "</table>\n",
       "</div>"
      ],
      "text/plain": [
       "                            name  est2010  est2011  est2012  est2013  est2014\n",
       "FIPS                                                                         \n",
       "0842495  Lakeside town, Colorado        8        8        8        8        8"
      ]
     },
     "execution_count": 13,
     "metadata": {},
     "output_type": "execute_result"
    }
   ],
   "source": [
    "popest[popest['est2014'] == 8]"
   ]
  },
  {
   "cell_type": "markdown",
   "metadata": {},
   "source": [
    "Ah, scenic [Lakeside](http://censusreporter.org/profiles/16000US0842495-lakeside-co/)."
   ]
  },
  {
   "cell_type": "markdown",
   "metadata": {},
   "source": [
    "Maybe you just want a sorted list. That's pretty easy. Just remember that the default sort is low-to-high."
   ]
  },
  {
   "cell_type": "code",
   "execution_count": 14,
   "metadata": {
    "collapsed": false
   },
   "outputs": [
    {
     "data": {
      "text/html": [
       "<div>\n",
       "<table border=\"1\" class=\"dataframe\">\n",
       "  <thead>\n",
       "    <tr style=\"text-align: right;\">\n",
       "      <th></th>\n",
       "      <th>name</th>\n",
       "      <th>est2010</th>\n",
       "      <th>est2011</th>\n",
       "      <th>est2012</th>\n",
       "      <th>est2013</th>\n",
       "      <th>est2014</th>\n",
       "    </tr>\n",
       "    <tr>\n",
       "      <th>FIPS</th>\n",
       "      <th></th>\n",
       "      <th></th>\n",
       "      <th></th>\n",
       "      <th></th>\n",
       "      <th></th>\n",
       "      <th></th>\n",
       "    </tr>\n",
       "  </thead>\n",
       "  <tbody>\n",
       "    <tr>\n",
       "      <th>0820000</th>\n",
       "      <td>Denver city, Colorado</td>\n",
       "      <td>603365</td>\n",
       "      <td>619390</td>\n",
       "      <td>633868</td>\n",
       "      <td>648401</td>\n",
       "      <td>663862</td>\n",
       "    </tr>\n",
       "    <tr>\n",
       "      <th>0816000</th>\n",
       "      <td>Colorado Springs city, Colorado</td>\n",
       "      <td>420455</td>\n",
       "      <td>427416</td>\n",
       "      <td>433630</td>\n",
       "      <td>440137</td>\n",
       "      <td>445830</td>\n",
       "    </tr>\n",
       "    <tr>\n",
       "      <th>0804000</th>\n",
       "      <td>Aurora city, Colorado</td>\n",
       "      <td>325977</td>\n",
       "      <td>332633</td>\n",
       "      <td>339302</td>\n",
       "      <td>346201</td>\n",
       "      <td>353108</td>\n",
       "    </tr>\n",
       "    <tr>\n",
       "      <th>0827425</th>\n",
       "      <td>Fort Collins city, Colorado</td>\n",
       "      <td>144505</td>\n",
       "      <td>145977</td>\n",
       "      <td>148956</td>\n",
       "      <td>152365</td>\n",
       "      <td>156480</td>\n",
       "    </tr>\n",
       "    <tr>\n",
       "      <th>0843000</th>\n",
       "      <td>Lakewood city, Colorado</td>\n",
       "      <td>143156</td>\n",
       "      <td>144184</td>\n",
       "      <td>145461</td>\n",
       "      <td>146992</td>\n",
       "      <td>149643</td>\n",
       "    </tr>\n",
       "    <tr>\n",
       "      <th>0877290</th>\n",
       "      <td>Thornton city, Colorado</td>\n",
       "      <td>119395</td>\n",
       "      <td>121885</td>\n",
       "      <td>124360</td>\n",
       "      <td>127728</td>\n",
       "      <td>130307</td>\n",
       "    </tr>\n",
       "    <tr>\n",
       "      <th>0803455</th>\n",
       "      <td>Arvada city, Colorado</td>\n",
       "      <td>106635</td>\n",
       "      <td>107578</td>\n",
       "      <td>109690</td>\n",
       "      <td>111600</td>\n",
       "      <td>113574</td>\n",
       "    </tr>\n",
       "    <tr>\n",
       "      <th>0883835</th>\n",
       "      <td>Westminster city, Colorado</td>\n",
       "      <td>106446</td>\n",
       "      <td>107748</td>\n",
       "      <td>109261</td>\n",
       "      <td>110978</td>\n",
       "      <td>112090</td>\n",
       "    </tr>\n",
       "    <tr>\n",
       "      <th>0862000</th>\n",
       "      <td>Pueblo city, Colorado</td>\n",
       "      <td>106887</td>\n",
       "      <td>107341</td>\n",
       "      <td>107813</td>\n",
       "      <td>108083</td>\n",
       "      <td>108423</td>\n",
       "    </tr>\n",
       "    <tr>\n",
       "      <th>0812815</th>\n",
       "      <td>Centennial city, Colorado</td>\n",
       "      <td>100871</td>\n",
       "      <td>102479</td>\n",
       "      <td>104074</td>\n",
       "      <td>106431</td>\n",
       "      <td>107201</td>\n",
       "    </tr>\n",
       "  </tbody>\n",
       "</table>\n",
       "</div>"
      ],
      "text/plain": [
       "                                    name  est2010  est2011  est2012  est2013  \\\n",
       "FIPS                                                                           \n",
       "0820000            Denver city, Colorado   603365   619390   633868   648401   \n",
       "0816000  Colorado Springs city, Colorado   420455   427416   433630   440137   \n",
       "0804000            Aurora city, Colorado   325977   332633   339302   346201   \n",
       "0827425      Fort Collins city, Colorado   144505   145977   148956   152365   \n",
       "0843000          Lakewood city, Colorado   143156   144184   145461   146992   \n",
       "0877290          Thornton city, Colorado   119395   121885   124360   127728   \n",
       "0803455            Arvada city, Colorado   106635   107578   109690   111600   \n",
       "0883835       Westminster city, Colorado   106446   107748   109261   110978   \n",
       "0862000            Pueblo city, Colorado   106887   107341   107813   108083   \n",
       "0812815        Centennial city, Colorado   100871   102479   104074   106431   \n",
       "\n",
       "         est2014  \n",
       "FIPS              \n",
       "0820000   663862  \n",
       "0816000   445830  \n",
       "0804000   353108  \n",
       "0827425   156480  \n",
       "0843000   149643  \n",
       "0877290   130307  \n",
       "0803455   113574  \n",
       "0883835   112090  \n",
       "0862000   108423  \n",
       "0812815   107201  "
      ]
     },
     "execution_count": 14,
     "metadata": {},
     "output_type": "execute_result"
    }
   ],
   "source": [
    "popest.sort_values(by='est2014', ascending=False).head(10) # don't forget that default sort is ascending not descending."
   ]
  },
  {
   "cell_type": "markdown",
   "metadata": {},
   "source": [
    "Maybe you only want to see some of the data."
   ]
  },
  {
   "cell_type": "code",
   "execution_count": 15,
   "metadata": {
    "collapsed": false
   },
   "outputs": [
    {
     "data": {
      "text/html": [
       "<div>\n",
       "<table border=\"1\" class=\"dataframe\">\n",
       "  <thead>\n",
       "    <tr style=\"text-align: right;\">\n",
       "      <th></th>\n",
       "      <th>name</th>\n",
       "      <th>est2014</th>\n",
       "    </tr>\n",
       "    <tr>\n",
       "      <th>FIPS</th>\n",
       "      <th></th>\n",
       "      <th></th>\n",
       "    </tr>\n",
       "  </thead>\n",
       "  <tbody>\n",
       "    <tr>\n",
       "      <th>0800925</th>\n",
       "      <td>Akron town, Colorado</td>\n",
       "      <td>1694</td>\n",
       "    </tr>\n",
       "    <tr>\n",
       "      <th>0801090</th>\n",
       "      <td>Alamosa city, Colorado</td>\n",
       "      <td>9531</td>\n",
       "    </tr>\n",
       "    <tr>\n",
       "      <th>0801530</th>\n",
       "      <td>Alma town, Colorado</td>\n",
       "      <td>275</td>\n",
       "    </tr>\n",
       "    <tr>\n",
       "      <th>0802355</th>\n",
       "      <td>Antonito town, Colorado</td>\n",
       "      <td>775</td>\n",
       "    </tr>\n",
       "    <tr>\n",
       "      <th>0803235</th>\n",
       "      <td>Arriba town, Colorado</td>\n",
       "      <td>194</td>\n",
       "    </tr>\n",
       "  </tbody>\n",
       "</table>\n",
       "</div>"
      ],
      "text/plain": [
       "                            name  est2014\n",
       "FIPS                                     \n",
       "0800925     Akron town, Colorado     1694\n",
       "0801090   Alamosa city, Colorado     9531\n",
       "0801530      Alma town, Colorado      275\n",
       "0802355  Antonito town, Colorado      775\n",
       "0803235    Arriba town, Colorado      194"
      ]
     },
     "execution_count": 15,
     "metadata": {},
     "output_type": "execute_result"
    }
   ],
   "source": [
    "popest[['name', 'est2014']].head()"
   ]
  },
  {
   "cell_type": "markdown",
   "metadata": {},
   "source": [
    "Maybe you're interested in change over time. You can add a new column to your `DataFrame` as a computation, like this."
   ]
  },
  {
   "cell_type": "code",
   "execution_count": 16,
   "metadata": {
    "collapsed": false
   },
   "outputs": [
    {
     "data": {
      "text/plain": [
       "FIPS\n",
       "0800925   -0.294291\n",
       "0801090    2.837721\n",
       "0801530    1.476015\n",
       "0802355   -0.895141\n",
       "0803235    0.518135\n",
       "Name: change, dtype: float64"
      ]
     },
     "execution_count": 16,
     "metadata": {},
     "output_type": "execute_result"
    }
   ],
   "source": [
    "popest['change'] = ((popest['est2014']-popest['est2010'])/popest['est2010'])*100\n",
    "popest['change'].head()"
   ]
  },
  {
   "cell_type": "markdown",
   "metadata": {},
   "source": [
    "Remember, you can treat a series (like our new `change` column) like a `dict` or like a `list`."
   ]
  },
  {
   "cell_type": "code",
   "execution_count": 17,
   "metadata": {
    "collapsed": false
   },
   "outputs": [
    {
     "name": "stdout",
     "output_type": "stream",
     "text": [
      "FIPS 0800925 had -0.29% population change\n",
      "The third place in the list had 1.48% population change\n"
     ]
    }
   ],
   "source": [
    "print \"FIPS 0800925 had {:.2f}% population change\".format(popest['change']['0800925'])\n",
    "print \"The third place in the list had {:.2f}% population change\".format(popest['change'][2]) # zero-indexed"
   ]
  },
  {
   "cell_type": "markdown",
   "metadata": {},
   "source": [
    "Which places had the most change?"
   ]
  },
  {
   "cell_type": "code",
   "execution_count": 18,
   "metadata": {
    "collapsed": false
   },
   "outputs": [
    {
     "data": {
      "text/html": [
       "<div>\n",
       "<table border=\"1\" class=\"dataframe\">\n",
       "  <thead>\n",
       "    <tr style=\"text-align: right;\">\n",
       "      <th></th>\n",
       "      <th>name</th>\n",
       "      <th>est2010</th>\n",
       "      <th>est2011</th>\n",
       "      <th>est2012</th>\n",
       "      <th>est2013</th>\n",
       "      <th>est2014</th>\n",
       "      <th>change</th>\n",
       "    </tr>\n",
       "    <tr>\n",
       "      <th>FIPS</th>\n",
       "      <th></th>\n",
       "      <th></th>\n",
       "      <th></th>\n",
       "      <th></th>\n",
       "      <th></th>\n",
       "      <th></th>\n",
       "      <th></th>\n",
       "    </tr>\n",
       "  </thead>\n",
       "  <tbody>\n",
       "    <tr>\n",
       "      <th>0877510</th>\n",
       "      <td>Timnath town, Colorado</td>\n",
       "      <td>628</td>\n",
       "      <td>796</td>\n",
       "      <td>1163</td>\n",
       "      <td>1538</td>\n",
       "      <td>1983</td>\n",
       "      <td>215.764331</td>\n",
       "    </tr>\n",
       "    <tr>\n",
       "      <th>0839855</th>\n",
       "      <td>Johnstown town, Colorado</td>\n",
       "      <td>9982</td>\n",
       "      <td>10429</td>\n",
       "      <td>11074</td>\n",
       "      <td>12108</td>\n",
       "      <td>13306</td>\n",
       "      <td>33.299940</td>\n",
       "    </tr>\n",
       "    <tr>\n",
       "      <th>0828360</th>\n",
       "      <td>Frederick town, Colorado</td>\n",
       "      <td>8720</td>\n",
       "      <td>8969</td>\n",
       "      <td>9417</td>\n",
       "      <td>10203</td>\n",
       "      <td>10927</td>\n",
       "      <td>25.309633</td>\n",
       "    </tr>\n",
       "    <tr>\n",
       "      <th>0869040</th>\n",
       "      <td>Seibert town, Colorado</td>\n",
       "      <td>180</td>\n",
       "      <td>183</td>\n",
       "      <td>182</td>\n",
       "      <td>181</td>\n",
       "      <td>218</td>\n",
       "      <td>21.111111</td>\n",
       "    </tr>\n",
       "    <tr>\n",
       "      <th>0845955</th>\n",
       "      <td>Lone Tree city, Colorado</td>\n",
       "      <td>11295</td>\n",
       "      <td>11564</td>\n",
       "      <td>11902</td>\n",
       "      <td>13286</td>\n",
       "      <td>13545</td>\n",
       "      <td>19.920319</td>\n",
       "    </tr>\n",
       "  </tbody>\n",
       "</table>\n",
       "</div>"
      ],
      "text/plain": [
       "                             name  est2010  est2011  est2012  est2013  \\\n",
       "FIPS                                                                    \n",
       "0877510    Timnath town, Colorado      628      796     1163     1538   \n",
       "0839855  Johnstown town, Colorado     9982    10429    11074    12108   \n",
       "0828360  Frederick town, Colorado     8720     8969     9417    10203   \n",
       "0869040    Seibert town, Colorado      180      183      182      181   \n",
       "0845955  Lone Tree city, Colorado    11295    11564    11902    13286   \n",
       "\n",
       "         est2014      change  \n",
       "FIPS                          \n",
       "0877510     1983  215.764331  \n",
       "0839855    13306   33.299940  \n",
       "0828360    10927   25.309633  \n",
       "0869040      218   21.111111  \n",
       "0845955    13545   19.920319  "
      ]
     },
     "execution_count": 18,
     "metadata": {},
     "output_type": "execute_result"
    }
   ],
   "source": [
    "popest.sort_values(by='change',ascending=False).head()"
   ]
  },
  {
   "cell_type": "markdown",
   "metadata": {},
   "source": [
    "Wow, Timnath doubled in size in five years! But we can see that it's an outlier. Maybe we want to just analyze bigger cities."
   ]
  },
  {
   "cell_type": "code",
   "execution_count": 19,
   "metadata": {
    "collapsed": false
   },
   "outputs": [
    {
     "data": {
      "text/plain": [
       "name       11\n",
       "est2010    11\n",
       "est2011    11\n",
       "est2012    11\n",
       "est2013    11\n",
       "est2014    11\n",
       "change     11\n",
       "dtype: int64"
      ]
     },
     "execution_count": 19,
     "metadata": {},
     "output_type": "execute_result"
    }
   ],
   "source": [
    "popest[popest['est2014'] > 100000].count()"
   ]
  },
  {
   "cell_type": "markdown",
   "metadata": {},
   "source": [
    "OK. There are 11 places in Colorado with more than 100,000 population. That output is kinda janky, though. Fortunately, we can also use `len`."
   ]
  },
  {
   "cell_type": "code",
   "execution_count": 20,
   "metadata": {
    "collapsed": false
   },
   "outputs": [
    {
     "name": "stdout",
     "output_type": "stream",
     "text": [
      "There are 11 cities with population larger than 100,000.\n"
     ]
    }
   ],
   "source": [
    "print \"There are {} cities with population larger than 100,000.\".format(len(popest[popest['est2014'] > 100000]))"
   ]
  },
  {
   "cell_type": "markdown",
   "metadata": {},
   "source": [
    "We can slice off just the bigger cities into another dataframe."
   ]
  },
  {
   "cell_type": "code",
   "execution_count": 21,
   "metadata": {
    "collapsed": false
   },
   "outputs": [
    {
     "data": {
      "text/html": [
       "<div>\n",
       "<table border=\"1\" class=\"dataframe\">\n",
       "  <thead>\n",
       "    <tr style=\"text-align: right;\">\n",
       "      <th></th>\n",
       "      <th>name</th>\n",
       "      <th>est2010</th>\n",
       "      <th>est2011</th>\n",
       "      <th>est2012</th>\n",
       "      <th>est2013</th>\n",
       "      <th>est2014</th>\n",
       "      <th>change</th>\n",
       "    </tr>\n",
       "    <tr>\n",
       "      <th>FIPS</th>\n",
       "      <th></th>\n",
       "      <th></th>\n",
       "      <th></th>\n",
       "      <th></th>\n",
       "      <th></th>\n",
       "      <th></th>\n",
       "      <th></th>\n",
       "    </tr>\n",
       "  </thead>\n",
       "  <tbody>\n",
       "    <tr>\n",
       "      <th>0820000</th>\n",
       "      <td>Denver city, Colorado</td>\n",
       "      <td>603365</td>\n",
       "      <td>619390</td>\n",
       "      <td>633868</td>\n",
       "      <td>648401</td>\n",
       "      <td>663862</td>\n",
       "      <td>10.026601</td>\n",
       "    </tr>\n",
       "    <tr>\n",
       "      <th>0877290</th>\n",
       "      <td>Thornton city, Colorado</td>\n",
       "      <td>119395</td>\n",
       "      <td>121885</td>\n",
       "      <td>124360</td>\n",
       "      <td>127728</td>\n",
       "      <td>130307</td>\n",
       "      <td>9.139411</td>\n",
       "    </tr>\n",
       "    <tr>\n",
       "      <th>0804000</th>\n",
       "      <td>Aurora city, Colorado</td>\n",
       "      <td>325977</td>\n",
       "      <td>332633</td>\n",
       "      <td>339302</td>\n",
       "      <td>346201</td>\n",
       "      <td>353108</td>\n",
       "      <td>8.322980</td>\n",
       "    </tr>\n",
       "    <tr>\n",
       "      <th>0827425</th>\n",
       "      <td>Fort Collins city, Colorado</td>\n",
       "      <td>144505</td>\n",
       "      <td>145977</td>\n",
       "      <td>148956</td>\n",
       "      <td>152365</td>\n",
       "      <td>156480</td>\n",
       "      <td>8.286910</td>\n",
       "    </tr>\n",
       "    <tr>\n",
       "      <th>0803455</th>\n",
       "      <td>Arvada city, Colorado</td>\n",
       "      <td>106635</td>\n",
       "      <td>107578</td>\n",
       "      <td>109690</td>\n",
       "      <td>111600</td>\n",
       "      <td>113574</td>\n",
       "      <td>6.507244</td>\n",
       "    </tr>\n",
       "  </tbody>\n",
       "</table>\n",
       "</div>"
      ],
      "text/plain": [
       "                                name  est2010  est2011  est2012  est2013  \\\n",
       "FIPS                                                                       \n",
       "0820000        Denver city, Colorado   603365   619390   633868   648401   \n",
       "0877290      Thornton city, Colorado   119395   121885   124360   127728   \n",
       "0804000        Aurora city, Colorado   325977   332633   339302   346201   \n",
       "0827425  Fort Collins city, Colorado   144505   145977   148956   152365   \n",
       "0803455        Arvada city, Colorado   106635   107578   109690   111600   \n",
       "\n",
       "         est2014     change  \n",
       "FIPS                         \n",
       "0820000   663862  10.026601  \n",
       "0877290   130307   9.139411  \n",
       "0804000   353108   8.322980  \n",
       "0827425   156480   8.286910  \n",
       "0803455   113574   6.507244  "
      ]
     },
     "execution_count": 21,
     "metadata": {},
     "output_type": "execute_result"
    }
   ],
   "source": [
    "bigtowns = popest[popest.est2010 > 100000]\n",
    "bigtowns.sort_values(by='change', ascending=False).head() "
   ]
  }
 ],
 "metadata": {
  "kernelspec": {
   "display_name": "Python 2",
   "language": "python",
   "name": "python2"
  },
  "language_info": {
   "codemirror_mode": {
    "name": "ipython",
    "version": 2
   },
   "file_extension": ".py",
   "mimetype": "text/x-python",
   "name": "python",
   "nbconvert_exporter": "python",
   "pygments_lexer": "ipython2",
   "version": "2.7.9"
  }
 },
 "nbformat": 4,
 "nbformat_minor": 0
}
